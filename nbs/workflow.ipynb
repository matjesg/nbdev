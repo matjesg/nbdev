{
 "cells": [
  {
   "cell_type": "markdown",
   "metadata": {},
   "source": [
    "# Workflow\n",
    "\n",
    "This is how to work with deepflash2 on google colab   "
   ]
  },
  {
   "cell_type": "markdown",
   "metadata": {},
   "source": [
    "## Visit Deepflash2 on Google Colab\n",
    "For using deepflash2 in Google Colab follow this link: https://colab.research.google.com/github/matjesg/deepflash2/blob/master/nbs/deepflash2.ipynb"
   ]
  },
  {
   "cell_type": "markdown",
   "metadata": {},
   "source": [
    "## Setup Enviroment\n",
    "At first you must allow google colab to run the notebook from GitHub by accepting the prompt."
   ]
  },
  {
   "cell_type": "markdown",
   "metadata": {},
   "source": [
    "## Connect to your google drive\n",
    "It is recommended to connect your runtime to google drive.\n",
    "You can allow it with ‘y’ for yes or deny it with ‘n’ for no.\n",
    "\n",
    "Go to the Url that is presented to you in the “Set up environment cell”.\n",
    "There you can choose your google drive account to connect to google colab.\n",
    "\n",
    "After you have successfully connected the accounts, google will present you a one time authorization code. Copy this code and enter it in the according field in the “Set up environment cell” and continue by pressing the enter key.\n",
    "\n",
    "Note: The authentication key will only work with this runtime. When you close google colab you have to request a new code as described.\n"
   ]
  },
  {
   "cell_type": "markdown",
   "metadata": {},
   "source": [
    "## Start the UI\n",
    "Go to the Url that is presented to you in the “Set up environment cell”.\n",
    "There you can choose your google drive account to connect to google colab.\n",
    "\n",
    "After you have successfully connected the accounts, google will present you a one time authorization code. Copy this code and enter it in the according field in the “Set up environment cell” and continue by pressing the enter key.\n",
    "\n",
    "Note: The authentication key will only work with this runtime. When you close google colab you have to request a new code as described.\n"
   ]
  },
  {
   "cell_type": "markdown",
   "metadata": {},
   "source": [
    "## Ground Truth Estimation\n",
    "\n",
    "### Expert Annotations\n",
    "\n",
    "You can estimate the ground truth by selecting images that are segmented beforehand by different experts. We recommend at least 12 different images from 3 different experts. After you have selected the desired data, you can press Load Data.\n",
    "\n",
    "Also you have the possibility to use sample data by clicking on “Load Sample Data”. There are 5 times 5 pictures available, coming from different experts\n",
    "\n",
    "<br>\n",
    "\n",
    "### Ground Truth Estimation\n",
    "\n",
    "When you have uploaded the images you can start the ground truth estimation by selecting one of the presented algorithms.\n",
    "At the time of writing you can select between STAPLE and Majority Voting.\n",
    "We recommend the STAPLE Algorithm when:\n",
    "- if the experience of experts that have annotated the images vary or is unknown\n",
    "- if you need more precise results when compared with the Majority Voting Algorithm\n",
    "\n",
    "We recommend the Majority Voting Algorithm when:\n",
    "- Use this algorithm if you can be sure that the expert annotations have no repeated errors.\n",
    "\n",
    "When the estimation is finished you can download the ground truth images for further use in training.\n"
   ]
  },
  {
   "cell_type": "markdown",
   "metadata": {},
   "source": [
    "## Training the model\n",
    "\n",
    "Note: For comprehensive results you require a ground truth image that is according to the content found in the training images you want to use to train the neural network. E.G. if you want to train a neural network to find specific objects in the images, these objects should also be found in the expert images used for the ground truth estimation.\n",
    "\n",
    "In this step you will create a model that you can use to automatically annotate new images.\n",
    "\n",
    "<br>\n",
    "\n",
    "### Data\n",
    "\n",
    "First, you have to provide training images. These should be unsegmented and contain the objects you want the neural network to find.\n",
    "Second, you have to offer segmentation masks you have to create beforehand.\n",
    "Third, you have to select a number of classes. The number of classes to choose depends on the characteristics of the segmentation. E.g., two for binary segmentation (foreground and background class).\n",
    "Fourth, you can provide instance labels. This step is optional.\n",
    "\n",
    "<br>\n",
    "\n",
    "### Ensemble Training\n",
    "\n",
    "Note: We recommend that you reserve 70% of your images data for model training.\n",
    "\n",
    "You can use the Ensemble training to optimize the results.\n",
    "First choose a Number of models within an ensemble; If you're experimenting with parameters, try only one model first; Depending on the data, ensembles should at least comprise 3-5 models\n",
    "How many times a single model is trained on a mini-batch of the training data. \n",
    "\n",
    "Train all models (ensemble) or (re-)train specific model.\n",
    "\n",
    "<br>\n",
    "\n",
    "### Validation\n",
    "\n",
    "Note: We recommend that you reserve 30% of your image data for validation.\n",
    "\n",
    "Here you can validate the performance of the model you have trained before with unsegmented images.\n",
    "\n"
   ]
  },
  {
   "cell_type": "markdown",
   "metadata": {},
   "source": [
    "## Prediction\n",
    "\n",
    "In this section you can use a model to segment the images and evaluate the results.\n",
    "\n",
    "<br>\n",
    "\n",
    "### Data and Ensemble\n",
    "\n",
    "First you have to upload the images you want the model to work with and predict results.\n",
    "Second you have to select the model you want to apply.\n",
    "\n",
    "<br>\n",
    "\n",
    "### Prediction and Quality Control\n",
    "\n",
    "Here you can run the prediction and download the results.\n",
    "You can enable test-time augmentation for prediction (more reliable and accurate, but slow).\n"
   ]
  }
 ],
 "metadata": {
  "kernelspec": {
   "display_name": "Python 3.9.4 64-bit",
   "name": "python394jvsc74a57bd0aee8b7b246df8f9039afb4144a1f6fd8d2ca17a180786b69acc140d282b71a49"
  }
 },
 "nbformat": 4,
 "nbformat_minor": 2
}
